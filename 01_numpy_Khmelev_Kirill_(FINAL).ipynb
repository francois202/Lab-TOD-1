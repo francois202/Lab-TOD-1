{
  "cells": [
    {
      "cell_type": "markdown",
      "metadata": {
        "id": "_PU2Sm_PXI1J"
      },
      "source": [
        "# Numpy"
      ]
    },
    {
      "cell_type": "markdown",
      "metadata": {
        "id": "tkdkzL7UXI1P"
      },
      "source": [
        "Материалы:\n",
        "* Макрушин С.В. \"Лекция 1: Библиотека Numpy\"\n",
        "* https://numpy.org/doc/stable/user/index.html\n",
        "* https://numpy.org/doc/stable/reference/index.html"
      ]
    },
    {
      "cell_type": "markdown",
      "metadata": {
        "id": "quTPvV7EXI1Q"
      },
      "source": [
        "## Задачи для совместного разбора"
      ]
    },
    {
      "cell_type": "markdown",
      "metadata": {
        "id": "-eWo5bzgXI1R"
      },
      "source": [
        "1. Сгенерировать двухмерный массив `arr` размерности (4, 7), состоящий из случайных действительных чисел, равномерно распределенных в диапазоне от 0 до 20. Нормализовать значения массива с помощью преобразования вида  $𝑎𝑥+𝑏$  так, что после нормализации максимальный элемент масcива будет равен 1.0, минимальный 0.0"
      ]
    },
    {
      "cell_type": "code",
      "execution_count": null,
      "metadata": {
        "id": "wRT-41yQXI1S"
      },
      "outputs": [],
      "source": [
        "import numpy as np"
      ]
    },
    {
      "cell_type": "code",
      "execution_count": null,
      "metadata": {
        "id": "2DwWY8XOXI1T"
      },
      "outputs": [],
      "source": [
        "data = np.random.randint(0, 20, size = (4, 7))"
      ]
    },
    {
      "cell_type": "code",
      "source": [
        "data/np.linalg.norm(data)"
      ],
      "metadata": {
        "colab": {
          "base_uri": "https://localhost:8080/"
        },
        "id": "O563VSBmbgmT",
        "outputId": "f8c1403e-427c-422d-86a2-a69c2df05014"
      },
      "execution_count": null,
      "outputs": [
        {
          "output_type": "execute_result",
          "data": {
            "text/plain": [
              "array([[0.18006192, 0.        , 0.18006192, 0.0491078 , 0.09821559,\n",
              "        0.26190824, 0.27827751],\n",
              "       [0.03273853, 0.31101604, 0.06547706, 0.31101604, 0.        ,\n",
              "        0.14732339, 0.31101604],\n",
              "       [0.09821559, 0.22916971, 0.24553898, 0.18006192, 0.08184633,\n",
              "        0.27827751, 0.13095412],\n",
              "       [0.03273853, 0.14732339, 0.14732339, 0.26190824, 0.08184633,\n",
              "        0.19643118, 0.21280045]])"
            ]
          },
          "metadata": {},
          "execution_count": 4
        }
      ]
    },
    {
      "cell_type": "markdown",
      "metadata": {
        "id": "1Se_WYRAXI1U"
      },
      "source": [
        "2. Создать матрицу 8 на 10 из случайных целых (используя модуль `numpy.random`) чисел из диапозона от 0 до 10 и найти в ней строку (ее индекс и вывести саму строку), в которой сумма значений минимальна."
      ]
    },
    {
      "cell_type": "code",
      "execution_count": null,
      "metadata": {
        "colab": {
          "base_uri": "https://localhost:8080/"
        },
        "id": "MWcqQMcEXI1V",
        "outputId": "5f5dc330-69c9-4d76-a3b6-b0c6b002741c"
      },
      "outputs": [
        {
          "output_type": "execute_result",
          "data": {
            "text/plain": [
              "array([[7, 1, 2, 6, 2, 3, 3, 1, 7, 9],\n",
              "       [5, 3, 7, 7, 8, 2, 1, 6, 0, 3],\n",
              "       [2, 8, 1, 8, 2, 8, 5, 9, 1, 2],\n",
              "       [5, 2, 6, 7, 2, 1, 3, 3, 9, 0],\n",
              "       [7, 2, 7, 6, 4, 9, 3, 5, 1, 5],\n",
              "       [2, 2, 5, 0, 6, 4, 1, 0, 3, 9],\n",
              "       [9, 5, 9, 8, 0, 7, 8, 2, 6, 7],\n",
              "       [2, 5, 4, 3, 5, 5, 3, 1, 9, 7]])"
            ]
          },
          "metadata": {},
          "execution_count": 5
        }
      ],
      "source": [
        "a = np.random.randint(0, 10, size = (8, 10))\n",
        "a"
      ]
    },
    {
      "cell_type": "code",
      "source": [
        "k = sum(a[0])\n",
        "for i in range(1, 8):\n",
        "    if k > sum(a[i]):\n",
        "      k = sum(a[i])\n",
        "      count = i\n",
        "print(k)\n",
        "print(a[i])"
      ],
      "metadata": {
        "colab": {
          "base_uri": "https://localhost:8080/"
        },
        "id": "a8KLAoKbcxLw",
        "outputId": "95a86079-7341-4fe4-cffe-83f505c41df6"
      },
      "execution_count": null,
      "outputs": [
        {
          "output_type": "stream",
          "name": "stdout",
          "text": [
            "32\n",
            "[2 5 4 3 5 5 3 1 9 7]\n"
          ]
        }
      ]
    },
    {
      "cell_type": "markdown",
      "metadata": {
        "id": "CJGn3J4GXI1V"
      },
      "source": [
        "3. Найти евклидово расстояние между двумя одномерными векторами одинаковой размерности."
      ]
    },
    {
      "cell_type": "code",
      "execution_count": null,
      "metadata": {
        "id": "M0cW-troXI1W"
      },
      "outputs": [],
      "source": [
        "import matplotlib.pyplot as pl\n",
        "from mpl_toolkits.mplot3d import Axes3D"
      ]
    },
    {
      "cell_type": "code",
      "execution_count": null,
      "metadata": {
        "id": "51kyXnIJXI1W"
      },
      "outputs": [],
      "source": []
    },
    {
      "cell_type": "markdown",
      "metadata": {
        "id": "-b_-0tyyXI1X"
      },
      "source": [
        "4. Решить матричное уравнение `A*X*B=-C` - найти матрицу `X`. Где `A = [[-1, 2, 4], [-3, 1, 2], [-3, 0, 1]]`, `B=[[3, -1], [2, 1]]`, `C=[[7, 21], [11, 8], [8, 4]]`."
      ]
    },
    {
      "cell_type": "markdown",
      "metadata": {
        "id": "QHsLLldyXI1X"
      },
      "source": [
        "## Лабораторная работа №1"
      ]
    },
    {
      "cell_type": "markdown",
      "metadata": {
        "id": "aKVshIUsXI1X"
      },
      "source": [
        "Замечание: при решении данных задач не подразумевается использования циклов или генераторов Python, если в задании не сказано обратного. Решение должно опираться на использования функционала библиотеки `numpy`."
      ]
    },
    {
      "cell_type": "markdown",
      "metadata": {
        "id": "liHPDfqzXI1Y"
      },
      "source": [
        "1. Файл `minutes_n_ingredients.csv` содержит информацию об идентификаторе рецепта, времени его выполнения в минутах и количестве необходимых ингредиентов. Считайте данные из этого файла в виде массива `numpy` типа `int32`, используя `np.loadtxt`. Выведите на экран первые 5 строк массива."
      ]
    },
    {
      "cell_type": "code",
      "source": [
        "mas = np.loadtxt(\"minutes_n_ingredients.csv\", delimiter=\",\", dtype = int)\n",
        "print(mas[:5])"
      ],
      "metadata": {
        "colab": {
          "base_uri": "https://localhost:8080/",
          "height": 328
        },
        "id": "KjtY4m6_hSGQ",
        "outputId": "2bc02072-40f7-490f-c284-5df030c90c93"
      },
      "execution_count": null,
      "outputs": [
        {
          "output_type": "error",
          "ename": "ValueError",
          "evalue": "ignored",
          "traceback": [
            "\u001b[0;31m---------------------------------------------------------------------------\u001b[0m",
            "\u001b[0;31mValueError\u001b[0m                                Traceback (most recent call last)",
            "\u001b[0;32m<ipython-input-2-9e5bfcc0deaf>\u001b[0m in \u001b[0;36m<module>\u001b[0;34m\u001b[0m\n\u001b[0;32m----> 1\u001b[0;31m \u001b[0mmas\u001b[0m \u001b[0;34m=\u001b[0m \u001b[0mnp\u001b[0m\u001b[0;34m.\u001b[0m\u001b[0mloadtxt\u001b[0m\u001b[0;34m(\u001b[0m\u001b[0;34m\"minutes_n_ingredients.csv\"\u001b[0m\u001b[0;34m,\u001b[0m \u001b[0mdelimiter\u001b[0m\u001b[0;34m=\u001b[0m\u001b[0;34m\",\"\u001b[0m\u001b[0;34m,\u001b[0m \u001b[0mdtype\u001b[0m \u001b[0;34m=\u001b[0m \u001b[0mint\u001b[0m\u001b[0;34m)\u001b[0m\u001b[0;34m\u001b[0m\u001b[0;34m\u001b[0m\u001b[0m\n\u001b[0m\u001b[1;32m      2\u001b[0m \u001b[0mprint\u001b[0m\u001b[0;34m(\u001b[0m\u001b[0mmas\u001b[0m\u001b[0;34m[\u001b[0m\u001b[0;34m:\u001b[0m\u001b[0;36m5\u001b[0m\u001b[0;34m]\u001b[0m\u001b[0;34m)\u001b[0m\u001b[0;34m\u001b[0m\u001b[0;34m\u001b[0m\u001b[0m\n",
            "\u001b[0;32m/usr/local/lib/python3.8/dist-packages/numpy/lib/npyio.py\u001b[0m in \u001b[0;36mloadtxt\u001b[0;34m(fname, dtype, comments, delimiter, converters, skiprows, usecols, unpack, ndmin, encoding, max_rows, like)\u001b[0m\n\u001b[1;32m   1161\u001b[0m                 \u001b[0;31m# Convert each value according to its column, then pack it\u001b[0m\u001b[0;34m\u001b[0m\u001b[0;34m\u001b[0m\u001b[0;34m\u001b[0m\u001b[0m\n\u001b[1;32m   1162\u001b[0m                 \u001b[0;31m# according to the dtype's nesting, and store it.\u001b[0m\u001b[0;34m\u001b[0m\u001b[0;34m\u001b[0m\u001b[0;34m\u001b[0m\u001b[0m\n\u001b[0;32m-> 1163\u001b[0;31m                 \u001b[0mchunk\u001b[0m\u001b[0;34m.\u001b[0m\u001b[0mappend\u001b[0m\u001b[0;34m(\u001b[0m\u001b[0mpacker\u001b[0m\u001b[0;34m(\u001b[0m\u001b[0mconvert_row\u001b[0m\u001b[0;34m(\u001b[0m\u001b[0mwords\u001b[0m\u001b[0;34m)\u001b[0m\u001b[0;34m)\u001b[0m\u001b[0;34m)\u001b[0m\u001b[0;34m\u001b[0m\u001b[0;34m\u001b[0m\u001b[0m\n\u001b[0m\u001b[1;32m   1164\u001b[0m             \u001b[0;32mif\u001b[0m \u001b[0;32mnot\u001b[0m \u001b[0mchunk\u001b[0m\u001b[0;34m:\u001b[0m  \u001b[0;31m# The islice is empty, i.e. we're done.\u001b[0m\u001b[0;34m\u001b[0m\u001b[0;34m\u001b[0m\u001b[0m\n\u001b[1;32m   1165\u001b[0m                 \u001b[0;32mbreak\u001b[0m\u001b[0;34m\u001b[0m\u001b[0;34m\u001b[0m\u001b[0m\n",
            "\u001b[0;32m/usr/local/lib/python3.8/dist-packages/numpy/lib/npyio.py\u001b[0m in \u001b[0;36mconvert_row\u001b[0;34m(vals, _conv)\u001b[0m\n\u001b[1;32m   1140\u001b[0m             \u001b[0;31m# equal dtypes.\u001b[0m\u001b[0;34m\u001b[0m\u001b[0;34m\u001b[0m\u001b[0;34m\u001b[0m\u001b[0m\n\u001b[1;32m   1141\u001b[0m             \u001b[0;32mdef\u001b[0m \u001b[0mconvert_row\u001b[0m\u001b[0;34m(\u001b[0m\u001b[0mvals\u001b[0m\u001b[0;34m,\u001b[0m \u001b[0m_conv\u001b[0m\u001b[0;34m=\u001b[0m\u001b[0mconverters\u001b[0m\u001b[0;34m[\u001b[0m\u001b[0;36m0\u001b[0m\u001b[0;34m]\u001b[0m\u001b[0;34m)\u001b[0m\u001b[0;34m:\u001b[0m\u001b[0;34m\u001b[0m\u001b[0;34m\u001b[0m\u001b[0m\n\u001b[0;32m-> 1142\u001b[0;31m                 \u001b[0;32mreturn\u001b[0m \u001b[0;34m[\u001b[0m\u001b[0;34m*\u001b[0m\u001b[0mmap\u001b[0m\u001b[0;34m(\u001b[0m\u001b[0m_conv\u001b[0m\u001b[0;34m,\u001b[0m \u001b[0mvals\u001b[0m\u001b[0;34m)\u001b[0m\u001b[0;34m]\u001b[0m\u001b[0;34m\u001b[0m\u001b[0;34m\u001b[0m\u001b[0m\n\u001b[0m\u001b[1;32m   1143\u001b[0m         \u001b[0;32melse\u001b[0m\u001b[0;34m:\u001b[0m\u001b[0;34m\u001b[0m\u001b[0;34m\u001b[0m\u001b[0m\n\u001b[1;32m   1144\u001b[0m             \u001b[0;32mdef\u001b[0m \u001b[0mconvert_row\u001b[0m\u001b[0;34m(\u001b[0m\u001b[0mvals\u001b[0m\u001b[0;34m)\u001b[0m\u001b[0;34m:\u001b[0m\u001b[0;34m\u001b[0m\u001b[0;34m\u001b[0m\u001b[0m\n",
            "\u001b[0;31mValueError\u001b[0m: invalid literal for int() with base 10: 'id'"
          ]
        }
      ]
    },
    {
      "cell_type": "markdown",
      "metadata": {
        "id": "rPX_jptrXI1Y"
      },
      "source": [
        "2. Вычислите среднее значение, минимум, максимум и медиану по каждому из столбцов, кроме первого."
      ]
    },
    {
      "cell_type": "code",
      "source": [
        "from prettytable import PrettyTable\n",
        "x = []\n",
        "y = []\n",
        "for i in mas:\n",
        "    x.append(i[1])\n",
        "    y.append(i[2])\n",
        "\n",
        "t = PrettyTable(['', 'Среднее значение', 'Минимум', 'Максимум', 'Медиана'])\n",
        "t.add_row(['Второй столбец', np.mean(mas, axis=0)[1], np.min(mas, axis=0)[1], np.max(mas, axis=0)[1], np.median(x)])\n",
        "t.add_row(['Третий столбец', np.mean(mas, axis=0)[2], np.min(mas, axis=0)[2], np.max(mas, axis=0)[2], np.median(y)])\n",
        "print(t)"
      ],
      "metadata": {
        "colab": {
          "base_uri": "https://localhost:8080/"
        },
        "id": "wHtcs9-otHkn",
        "outputId": "3d76dea5-4caf-4a38-faa4-85c4815ded09"
      },
      "execution_count": null,
      "outputs": [
        {
          "output_type": "stream",
          "name": "stdout",
          "text": [
            "+----------------+------------------+---------+------------+---------+\n",
            "|                | Среднее значение | Минимум |  Максимум  | Медиана |\n",
            "+----------------+------------------+---------+------------+---------+\n",
            "| Второй столбец |   21601.00169    |    0    | 2147483647 |   40.0  |\n",
            "| Третий столбец |     9.05528      |    1    |     39     |   9.0   |\n",
            "+----------------+------------------+---------+------------+---------+\n"
          ]
        }
      ]
    },
    {
      "cell_type": "markdown",
      "metadata": {
        "id": "9RRsYQSlXI1Y"
      },
      "source": [
        "3. Ограничьте сверху значения продолжительности выполнения рецепта значением квантиля $q_{0.75}$. "
      ]
    },
    {
      "cell_type": "code",
      "source": [
        "np.quantile(mas, 0.75, axis=0)[1]"
      ],
      "metadata": {
        "colab": {
          "base_uri": "https://localhost:8080/"
        },
        "id": "FiD1szb5w13V",
        "outputId": "c60867c8-2755-4cee-81b5-d4d22d0138a0"
      },
      "execution_count": null,
      "outputs": [
        {
          "output_type": "execute_result",
          "data": {
            "text/plain": [
              "65.0"
            ]
          },
          "metadata": {},
          "execution_count": 19
        }
      ]
    },
    {
      "cell_type": "markdown",
      "metadata": {
        "id": "NNnfTng2XI1Y"
      },
      "source": [
        "4. Посчитайте, для скольких рецептов указана продолжительность, равная нулю. Замените для таких строк значение в данном столбце на 1."
      ]
    },
    {
      "cell_type": "code",
      "source": [
        "count = 0\n",
        "for i in range(len(x)):\n",
        "  if x[i] == 0:\n",
        "    count = count + 1\n",
        "    mas[i][1] = 1\n",
        "print(count) \n",
        "\n"
      ],
      "metadata": {
        "colab": {
          "base_uri": "https://localhost:8080/"
        },
        "id": "BkLWFC3FJwb3",
        "outputId": "0f4005c8-08cb-40a7-a3a3-2cda0284a58d"
      },
      "execution_count": null,
      "outputs": [
        {
          "output_type": "stream",
          "name": "stdout",
          "text": [
            "479\n"
          ]
        }
      ]
    },
    {
      "cell_type": "markdown",
      "metadata": {
        "id": "SqTr8jn0XI1Z"
      },
      "source": [
        "5. Посчитайте, сколько уникальных рецептов находится в датасете."
      ]
    },
    {
      "cell_type": "code",
      "source": [
        "len(np.unique(mas))"
      ],
      "metadata": {
        "colab": {
          "base_uri": "https://localhost:8080/"
        },
        "id": "IH09H0BrOweL",
        "outputId": "89f75e16-a69a-43dc-e3b0-9c6d8aaeef89"
      },
      "execution_count": null,
      "outputs": [
        {
          "output_type": "execute_result",
          "data": {
            "text/plain": [
              "100544"
            ]
          },
          "metadata": {},
          "execution_count": 29
        }
      ]
    },
    {
      "cell_type": "markdown",
      "metadata": {
        "id": "lRnIRYGhXI1Z"
      },
      "source": [
        "6. Сколько и каких различных значений кол-ва ингредиентов присутвует в рецептах из датасета?"
      ]
    },
    {
      "cell_type": "code",
      "source": [
        "print(np.unique(y))\n",
        "len(np.unique(y))"
      ],
      "metadata": {
        "colab": {
          "base_uri": "https://localhost:8080/"
        },
        "id": "1huB9v2kSluj",
        "outputId": "232444b0-1d84-4401-8a10-4e1f31e3c335"
      },
      "execution_count": null,
      "outputs": [
        {
          "output_type": "stream",
          "name": "stdout",
          "text": [
            "[ 1  2  3  4  5  6  7  8  9 10 11 12 13 14 15 16 17 18 19 20 21 22 23 24\n",
            " 25 26 27 28 29 30 31 32 33 34 35 37 39]\n"
          ]
        },
        {
          "output_type": "execute_result",
          "data": {
            "text/plain": [
              "37"
            ]
          },
          "metadata": {},
          "execution_count": 31
        }
      ]
    },
    {
      "cell_type": "markdown",
      "metadata": {
        "id": "PGfCMVthXI1a"
      },
      "source": [
        "7. Создайте версию массива, содержащую информацию только о рецептах, состоящих не более чем из 5 ингредиентов."
      ]
    },
    {
      "cell_type": "code",
      "source": [
        "z = [mas[i] for i in range(len(mas)) if y[i] <= 5]\n",
        "np.array(z)"
      ],
      "metadata": {
        "colab": {
          "base_uri": "https://localhost:8080/"
        },
        "id": "3X-vSuIqTPsd",
        "outputId": "add9aca4-ab8f-4984-b717-b00bb4b34c0f"
      },
      "execution_count": null,
      "outputs": [
        {
          "output_type": "execute_result",
          "data": {
            "text/plain": [
              "array([[446597,     15,      5],\n",
              "       [204134,      5,      3],\n",
              "       [ 25623,      6,      4],\n",
              "       ...,\n",
              "       [ 52088,     60,      5],\n",
              "       [128811,     15,      4],\n",
              "       [370915,      5,      4]])"
            ]
          },
          "metadata": {},
          "execution_count": 33
        }
      ]
    },
    {
      "cell_type": "markdown",
      "metadata": {
        "id": "9Kw1fDq0XI1a"
      },
      "source": [
        "8. Для каждого рецепта посчитайте, сколько в среднем ингредиентов приходится на одну минуту рецепта. Найдите максимальное значение этой величины для всего датасета"
      ]
    },
    {
      "cell_type": "code",
      "source": [
        "min_1 = [y[i] for i in range(len(x)) if x[i] == 1]\n",
        "print(np.mean(min_1), max(min_1))\n"
      ],
      "metadata": {
        "colab": {
          "base_uri": "https://localhost:8080/"
        },
        "id": "cshZNLzDVAWp",
        "outputId": "f715d27c-b77e-4ed8-979a-ea5522c93b33"
      },
      "execution_count": null,
      "outputs": [
        {
          "output_type": "stream",
          "name": "stdout",
          "text": [
            "4.286919831223629 23\n"
          ]
        }
      ]
    },
    {
      "cell_type": "markdown",
      "metadata": {
        "id": "Hd-Zyp_UXI1a"
      },
      "source": [
        "9. Вычислите среднее количество ингредиентов для топ-100 рецептов с наибольшей продолжительностью"
      ]
    },
    {
      "cell_type": "code",
      "source": [
        "mas_sort_100 = mas[mas[:, 1].argsort()[:100]]\n",
        "np.mean(mas_sort_100, axis=0)[2]"
      ],
      "metadata": {
        "id": "3CyLniG5YSoM",
        "colab": {
          "base_uri": "https://localhost:8080/"
        },
        "outputId": "fa684114-8c29-4cf4-be83-d7f33b04ca32"
      },
      "execution_count": null,
      "outputs": [
        {
          "output_type": "execute_result",
          "data": {
            "text/plain": [
              "7.81"
            ]
          },
          "metadata": {},
          "execution_count": 35
        }
      ]
    },
    {
      "cell_type": "markdown",
      "metadata": {
        "id": "UzXs3ByYXI1b"
      },
      "source": [
        "10. Выберите случайным образом и выведите информацию о 10 различных рецептах"
      ]
    },
    {
      "cell_type": "code",
      "source": [
        "mas[np.random.choice(mas.shape[0], 10, replace=False), :]"
      ],
      "metadata": {
        "colab": {
          "base_uri": "https://localhost:8080/"
        },
        "id": "MWVzLVyyablc",
        "outputId": "b9b9e3a9-e7c0-4aae-e39d-79cb4c8c404d"
      },
      "execution_count": null,
      "outputs": [
        {
          "output_type": "execute_result",
          "data": {
            "text/plain": [
              "array([[173259,      5,      6],\n",
              "       [325286,     20,      6],\n",
              "       [447255,     50,      9],\n",
              "       [254267,     42,      9],\n",
              "       [485110,     75,     15],\n",
              "       [ 90486,    120,     11],\n",
              "       [325965,     15,      9],\n",
              "       [188902,     40,     13],\n",
              "       [308423,     18,      4],\n",
              "       [ 49451,      3,      4]])"
            ]
          },
          "metadata": {},
          "execution_count": 36
        }
      ]
    },
    {
      "cell_type": "markdown",
      "metadata": {
        "id": "RjsrfAYHXI1b"
      },
      "source": [
        "11. Выведите процент рецептов, кол-во ингредиентов в которых меньше среднего."
      ]
    },
    {
      "cell_type": "code",
      "source": [
        "average_ = np.mean(mas, axis=0)[2]\n",
        "mas_percent = [mas[i][2] for i in range(len(x)) if mas[i][2] < average_]\n",
        "print(\"Процент рецептов, кол-во ингредиентов в которых меньше среднего:\", len(mas_percent) / len(mas) * 100)"
      ],
      "metadata": {
        "colab": {
          "base_uri": "https://localhost:8080/"
        },
        "id": "ANDYzabHadKK",
        "outputId": "56d5c64a-8432-4eb6-8e9b-ef68054851d6"
      },
      "execution_count": null,
      "outputs": [
        {
          "output_type": "stream",
          "name": "stdout",
          "text": [
            "Процент рецептов, кол-во ингредиентов в которых меньше среднего: 58.802\n"
          ]
        }
      ]
    },
    {
      "cell_type": "markdown",
      "metadata": {
        "id": "qdEJsYlhXI1b"
      },
      "source": [
        "12. Назовем \"простым\" такой рецепт, длительность выполнения которого не больше 20 минут и кол-во ингредиентов в котором не больше 5. Создайте версию датасета с дополнительным столбцом, значениями которого являются 1, если рецепт простой, и 0 в противном случае."
      ]
    },
    {
      "cell_type": "code",
      "source": [
        "new_column = []\n",
        "for i in range(len(mas)):\n",
        "  if mas[i][1] <= 20 and mas[i][2] <= 5:\n",
        "    new_column.append(1)\n",
        "  else:\n",
        "    new_column.append(0)\n",
        "new_mas = np.insert(mas, 3, new_column, axis= 1)\n",
        "print(new_mas)\n"
      ],
      "metadata": {
        "colab": {
          "base_uri": "https://localhost:8080/"
        },
        "id": "hY-3FR4Gad1Z",
        "outputId": "32277daa-9f33-4f56-87d6-44cb09353e12"
      },
      "execution_count": null,
      "outputs": [
        {
          "output_type": "stream",
          "name": "stdout",
          "text": [
            "[[127244     60     16      0]\n",
            " [ 23891     25      7      0]\n",
            " [ 94746     10      6      0]\n",
            " ...\n",
            " [498432     65     15      0]\n",
            " [370915      5      4      1]\n",
            " [ 81993    140     14      0]]\n"
          ]
        }
      ]
    },
    {
      "cell_type": "markdown",
      "metadata": {
        "id": "rp_u1N6GXI1b"
      },
      "source": [
        "13. Выведите процент \"простых\" рецептов в датасете"
      ]
    },
    {
      "cell_type": "code",
      "source": [
        "count = 0\n",
        "for i in range(len(new_mas)):\n",
        "  if new_mas[i][3] == 1:\n",
        "    count = count + 1\n",
        "print(\"Процент 'простых' рецептов:\", count / len(mas) * 100)"
      ],
      "metadata": {
        "colab": {
          "base_uri": "https://localhost:8080/"
        },
        "id": "6b1jYBXpaeV0",
        "outputId": "753a9fc5-094b-486c-9fd7-60f3d51a05d1"
      },
      "execution_count": null,
      "outputs": [
        {
          "output_type": "stream",
          "name": "stdout",
          "text": [
            "Процент 'простых' рецептов: 9.552\n"
          ]
        }
      ]
    },
    {
      "cell_type": "markdown",
      "metadata": {
        "id": "-FefieshXI1b"
      },
      "source": [
        "14. Разделим рецепты на группы по следующему правилу. Назовем рецепты короткими, если их продолжительность составляет менее 10 минут; стандартными, если их продолжительность составляет более 10, но менее 20 минут; и длинными, если их продолжительность составляет не менее 20 минут. Создайте трехмерный массив, где нулевая ось отвечает за номер группы (короткий, стандартный или длинный рецепт), первая ось - за сам рецепт и вторая ось - за характеристики рецепта. Выберите максимальное количество рецептов из каждой группы таким образом, чтобы было возможно сформировать трехмерный массив. Выведите форму полученного массива."
      ]
    },
    {
      "cell_type": "code",
      "execution_count": null,
      "metadata": {
        "id": "vSjWk_oyXI1c",
        "colab": {
          "base_uri": "https://localhost:8080/"
        },
        "outputId": "30ab751e-1c1d-4674-f27e-a6ce7782852a"
      },
      "outputs": [
        {
          "output_type": "stream",
          "name": "stdout",
          "text": [
            "[[[     3 127244]\n",
            "  [    60     16]]\n",
            "\n",
            " [[     3  23891]\n",
            "  [    25      7]]\n",
            "\n",
            " [[     1  94746]\n",
            "  [    10      6]]\n",
            "\n",
            " ...\n",
            "\n",
            " [[     3 498432]\n",
            "  [    65     15]]\n",
            "\n",
            " [[     1 370915]\n",
            "  [     5      4]]\n",
            "\n",
            " [[     3  81993]\n",
            "  [   140     14]]]\n"
          ]
        }
      ],
      "source": [
        "new_column_type = []\n",
        "for i in range(len(mas)):\n",
        "  if mas[i][1] < 10:\n",
        "    new_column_type.append(1)\n",
        "  elif 10 <= mas[i][1] < 20:\n",
        "    new_column_type.append(1)\n",
        "  else:\n",
        "    new_column_type.append(3)\n",
        "new_mas_type = np.insert(mas, 0, new_column_type, axis= 1)\n",
        "print(np.reshape(new_mas_type, (-1, 2, 2)))\n",
        "\n"
      ]
    }
  ],
  "metadata": {
    "kernelspec": {
      "display_name": "Python 3 (ipykernel)",
      "language": "python",
      "name": "python3"
    },
    "language_info": {
      "codemirror_mode": {
        "name": "ipython",
        "version": 3
      },
      "file_extension": ".py",
      "mimetype": "text/x-python",
      "name": "python",
      "nbconvert_exporter": "python",
      "pygments_lexer": "ipython3",
      "version": "3.9.12"
    },
    "colab": {
      "provenance": []
    }
  },
  "nbformat": 4,
  "nbformat_minor": 0
}